{
  "nbformat": 4,
  "nbformat_minor": 0,
  "metadata": {
    "colab": {
      "provenance": []
    },
    "kernelspec": {
      "name": "python3",
      "display_name": "Python 3"
    },
    "language_info": {
      "name": "python"
    }
  },
  "cells": [
    {
      "cell_type": "code",
      "execution_count": null,
      "metadata": {
        "id": "OcVBIMu5tH8f"
      },
      "outputs": [],
      "source": [
        "import random\n",
        "\n",
        "#変数(var)を３もしくは５の倍数\n",
        "var = random.randint(1,30)\n",
        "print(var)\n",
        "\n",
        "#3と5の倍数\n",
        "if var % 3 == 0 and var % 5 == 0:\n",
        "  print(\"FizzBuzz\")\n",
        "\n",
        "#3の倍数\n",
        "elif var % 3 == 0:\n",
        "  print(\"Fizz\")\n",
        "\n",
        "#5の倍数\n",
        "elif var % 5 == 0:\n",
        "  print(\"Buzz\")\n",
        "\n",
        "#どの場合にも該当しない\n",
        "else:\n",
        "  print(var)"
      ]
    }
  ]
}