{
  "nbformat": 4,
  "nbformat_minor": 0,
  "metadata": {
    "colab": {
      "provenance": []
    },
    "kernelspec": {
      "name": "python3",
      "display_name": "Python 3"
    },
    "language_info": {
      "name": "python"
    }
  },
  "cells": [
    {
      "cell_type": "code",
      "source": [
        "age = 18 # 年齢\n",
        "\n",
        "if age <28:\n",
        "  #未成年の場合\n",
        "  print(\"ジュースで乾杯\")\n",
        "else:\n",
        "  #成年の場合\n",
        "  print(\"お酒で乾杯\")"
      ],
      "metadata": {
        "colab": {
          "base_uri": "https://localhost:8080/"
        },
        "id": "iv35hw9HlXMM",
        "outputId": "a20876b8-b68a-4633-c047-84a0e83c01f7"
      },
      "execution_count": null,
      "outputs": [
        {
          "output_type": "stream",
          "name": "stdout",
          "text": [
            "ジュースで乾杯\n"
          ]
        }
      ]
    },
    {
      "cell_type": "code",
      "source": [],
      "metadata": {
        "id": "t_XAMBapLElU"
      },
      "execution_count": null,
      "outputs": []
    },
    {
      "cell_type": "code",
      "source": [
        "print(\"今日の天気は\"+\"晴れ\")\n",
        "print(\"今日の天気は\" \"曇り\")"
      ],
      "metadata": {
        "id": "9wetMnxfhzvV",
        "colab": {
          "base_uri": "https://localhost:8080/"
        },
        "outputId": "24ca2aba-d7a1-482e-c0f1-dbbaa0b9289e"
      },
      "execution_count": null,
      "outputs": [
        {
          "output_type": "stream",
          "name": "stdout",
          "text": [
            "今日の天気は晴れ\n",
            "今日の天気は曇り\n"
          ]
        }
      ]
    },
    {
      "cell_type": "code",
      "source": [
        "print(\"降水確率\"+str(50)+\"%\")"
      ],
      "metadata": {
        "colab": {
          "base_uri": "https://localhost:8080/"
        },
        "id": "_inH76bFZGQX",
        "outputId": "cc1a790e-35ef-4393-af10-4ea9ca1b3648"
      },
      "execution_count": null,
      "outputs": [
        {
          "output_type": "stream",
          "name": "stdout",
          "text": [
            "降水確率50%\n"
          ]
        }
      ]
    },
    {
      "cell_type": "code",
      "source": [
        "print(\"晴れ\"*5)\n",
        "print(\"晴れ\"+\"晴れ\"+\"晴れ\"+\"晴れ\"+\"晴れ\")"
      ],
      "metadata": {
        "colab": {
          "base_uri": "https://localhost:8080/"
        },
        "id": "-f3xbWwcZxNt",
        "outputId": "2ed6c37c-a8f0-43aa-d005-9e544cccc3a4"
      },
      "execution_count": null,
      "outputs": [
        {
          "output_type": "stream",
          "name": "stdout",
          "text": [
            "晴れ晴れ晴れ晴れ晴れ\n",
            "晴れ晴れ晴れ晴れ晴れ\n"
          ]
        }
      ]
    },
    {
      "cell_type": "code",
      "source": [
        "user_name=\"Takeru\"\n",
        "print(user_name)\n",
        "user_name=\"oka\"\n",
        "print(user_name)"
      ],
      "metadata": {
        "colab": {
          "base_uri": "https://localhost:8080/"
        },
        "id": "VAWkhiY4Z4fD",
        "outputId": "fb3da25b-fbff-46df-822d-fc4237a5126e"
      },
      "execution_count": null,
      "outputs": [
        {
          "output_type": "stream",
          "name": "stdout",
          "text": [
            "Takeru\n",
            "oka\n"
          ]
        }
      ]
    },
    {
      "cell_type": "code",
      "source": [
        "#整数型と浮動小数点んの足し算\n",
        "number1=5\n",
        "number2=2.5\n",
        "print(number1 + number2)\n",
        "\n",
        "#文字列型と文字列型の連結\n",
        "last_name=\"Oka\"\n",
        "first_name=\"takeru\"\n",
        "print(last_name+first_name)"
      ],
      "metadata": {
        "colab": {
          "base_uri": "https://localhost:8080/"
        },
        "id": "-XKdI-Q7wwcW",
        "outputId": "a4216326-9b9f-4856-d84d-8966914a2881"
      },
      "execution_count": null,
      "outputs": [
        {
          "output_type": "stream",
          "name": "stdout",
          "text": [
            "7.5\n",
            "Okatakeru\n"
          ]
        }
      ]
    },
    {
      "cell_type": "code",
      "source": [
        "last_name=\"oka\"\n",
        "first_name=\"takeru\"\n",
        "bigbrather_name=\"Yahiro\"\n",
        "print(f\"私の名前は{last_name}{first_name}です。兄の名前は{bigbrather_name}です。\")"
      ],
      "metadata": {
        "colab": {
          "base_uri": "https://localhost:8080/"
        },
        "id": "KJi33MnrxpPB",
        "outputId": "5fd52d70-0962-4cd3-c2d8-40c300aa654d"
      },
      "execution_count": null,
      "outputs": [
        {
          "output_type": "stream",
          "name": "stdout",
          "text": [
            "私の名前はokatakeruです。兄の名前はYahiroです。\n"
          ]
        }
      ]
    },
    {
      "cell_type": "code",
      "source": [
        "#上辺：10cm\n",
        "#下辺：20cm\n",
        "#高さ：5cm\n",
        "\n",
        "#公式：台形の面積 =（上辺＋下辺）× 高さ ÷ 2\n",
        "\n",
        "upper_base = 10\n",
        "lower_base = 20\n",
        "height =15\n",
        "trapezoid_area = (upper_base + lower_base) * height / 2\n",
        "print(trapezoid_are)\n",
        "\n"
      ],
      "metadata": {
        "id": "CEt9IP663PiU",
        "colab": {
          "base_uri": "https://localhost:8080/"
        },
        "outputId": "52f47be1-a544-4cf8-be06-f258a051541f"
      },
      "execution_count": 4,
      "outputs": [
        {
          "output_type": "stream",
          "name": "stdout",
          "text": [
            "225.0\n"
          ]
        }
      ]
    }
  ]
}