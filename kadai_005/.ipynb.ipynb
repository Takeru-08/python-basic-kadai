{
  "nbformat": 4,
  "nbformat_minor": 0,
  "metadata": {
    "colab": {
      "provenance": []
    },
    "kernelspec": {
      "name": "python3",
      "display_name": "Python 3"
    },
    "language_info": {
      "name": "python"
    }
  },
  "cells": [
    {
      "cell_type": "code",
      "source": [
        "#上辺：10cm\n",
        "#下辺：20cm\n",
        "#高さ：5cm\n",
        "\n",
        "#公式：台形の面積 =（上辺＋下辺）× 高さ ÷ 2\n",
        "\n",
        "upper_base = 10\n",
        "lower_base = 20\n",
        "height =5\n",
        "trapezoid_area = (upper_base + lower_base) * height / 2\n",
        "print (str(trapezoid_area) +\"cm²\")"
      ],
      "metadata": {
        "id": "CEt9IP663PiU",
        "colab": {
          "base_uri": "https://localhost:8080/"
        },
        "outputId": "3c1bef2f-d34e-4fc0-8666-3233c8e0403d"
      },
      "execution_count": 7,
      "outputs": [
        {
          "output_type": "stream",
          "name": "stdout",
          "text": [
            "75.0cm²\n"
          ]
        }
      ]
    }
  ]
}