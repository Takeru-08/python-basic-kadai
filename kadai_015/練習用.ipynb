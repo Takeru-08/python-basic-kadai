{
  "nbformat": 4,
  "nbformat_minor": 0,
  "metadata": {
    "colab": {
      "provenance": []
    },
    "kernelspec": {
      "name": "python3",
      "display_name": "Python 3"
    },
    "language_info": {
      "name": "python"
    }
  },
  "cells": [
    {
      "cell_type": "code",
      "source": [
        "class Human:\n",
        "    def __init__(self, name, age):\n",
        "        # コンストラクタ（初期化メソッド）\n",
        "        self.name = name\n",
        "        self.age = age\n",
        "\n",
        "    def printinfo(self):\n",
        "        # 名前と年齢を出力するメソッド\n",
        "        print(f\"名前: {self.name}, 年齢: {self.age}\")\n",
        "\n",
        "\n",
        "# Humanクラスのインスタンスを変数に代入\n",
        "person = Human(\"太郎\", 20)\n",
        "\n",
        "# メソッドを呼び出して出力\n",
        "person.printinfo()\n"
      ],
      "metadata": {
        "colab": {
          "base_uri": "https://localhost:8080/"
        },
        "id": "2xzVX472EWNx",
        "outputId": "80592903-98fb-4379-bf4a-15df9df0fa3d"
      },
      "execution_count": 3,
      "outputs": [
        {
          "output_type": "stream",
          "name": "stdout",
          "text": [
            "名前: 太郎, 年齢: 20\n"
          ]
        }
      ]
    }
  ]
}