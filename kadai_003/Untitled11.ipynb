{
  "nbformat": 4,
  "nbformat_minor": 0,
  "metadata": {
    "colab": {
      "provenance": []
    },
    "kernelspec": {
      "name": "python3",
      "display_name": "Python 3"
    },
    "language_info": {
      "name": "python"
    }
  },
  "cells": [
    {
      "cell_type": "code",
      "source": [
        "import numpy as np\n",
        "\n",
        "#多次元配列のコードを記述\n",
        "A = np.arange(6).reshape(3,2)\n",
        "B = np.arange(8).reshape(2,4)\n",
        "\n",
        "#行列の積を計算\n",
        "total = np.dot(A,B)\n",
        "\n",
        "#計算結果を記述\n",
        "print(total)\n",
        "\n",
        "#最大値を求める\n",
        "print(f\"最大値:{total.max()}\")"
      ],
      "metadata": {
        "colab": {
          "base_uri": "https://localhost:8080/"
        },
        "id": "GkweCG1bbKjq",
        "outputId": "68d6022b-a421-4e68-d0b3-a07068baa6fe"
      },
      "execution_count": 9,
      "outputs": [
        {
          "output_type": "stream",
          "name": "stdout",
          "text": [
            "[[ 4  5  6  7]\n",
            " [12 17 22 27]\n",
            " [20 29 38 47]]\n",
            "最大値:47\n"
          ]
        }
      ]
    },
    {
      "cell_type": "code",
      "source": [],
      "metadata": {
        "id": "42IK93jqb5aW"
      },
      "execution_count": null,
      "outputs": []
    }
  ]
}