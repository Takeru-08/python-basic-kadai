{
  "nbformat": 4,
  "nbformat_minor": 0,
  "metadata": {
    "colab": {
      "provenance": []
    },
    "kernelspec": {
      "name": "python3",
      "display_name": "Python 3"
    },
    "language_info": {
      "name": "python"
    }
  },
  "cells": [
    {
      "cell_type": "code",
      "execution_count": 3,
      "metadata": {
        "colab": {
          "base_uri": "https://localhost:8080/"
        },
        "id": "OUhWwsYu01T-",
        "outputId": "a21956a5-32e0-4727-fe73-a5eb56f0317b"
      },
      "outputs": [
        {
          "output_type": "stream",
          "name": "stdout",
          "text": [
            "税込み価格は121.0円です\n"
          ]
        }
      ],
      "source": [
        "def calculate_total(price,tax_rate):\n",
        "\n",
        "  #消費税額の計算\n",
        "  tax_amount = price * (tax_rate / 100)\n",
        "\n",
        "  #消費税を加えた合計金額の計算\n",
        "  total_price = price + tax_amount\n",
        "\n",
        "  #結果を戻り値として返す\n",
        "  return total_price\n",
        "\n",
        "result = calculate_total(110, 10)\n",
        "\n",
        "print(f\"税込み価格は{result}円です\")"
      ]
    },
    {
      "cell_type": "code",
      "source": [
        "import random\n",
        "def calculate_total(price, tax_rate):\n",
        "  #消費税額の計算\n",
        "  tax_amount = price * (tax_rate / 100)\n",
        "\n",
        "  #ランダムに商品を1～8個購入\n",
        "  count = random.randint(1,8)\n",
        "  print(f\"{count}個を購入しました\")\n",
        "  #消費税を加えた合計金額\n",
        "\n",
        "  total_price = count * (price + tax_amount)\n",
        "\n",
        "  #結果を戻り値として返す\n",
        "  return total_price\n",
        "\n",
        "result = calculate_total(110, 10)\n",
        "\n",
        "print(f\"税込み価格は{result}円です\")\n"
      ],
      "metadata": {
        "colab": {
          "base_uri": "https://localhost:8080/"
        },
        "id": "XKf1M4q-7RTt",
        "outputId": "9c886b35-6286-4e95-d477-f87c88961793"
      },
      "execution_count": 23,
      "outputs": [
        {
          "output_type": "stream",
          "name": "stdout",
          "text": [
            "7個を購入しました\n",
            "税込み価格は847.0円です\n"
          ]
        }
      ]
    }
  ]
}